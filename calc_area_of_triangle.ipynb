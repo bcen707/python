{
 "cells": [
  {
   "cell_type": "code",
   "execution_count": 1,
   "id": "9361257d",
   "metadata": {},
   "outputs": [
    {
     "name": "stdout",
     "output_type": "stream",
     "text": [
      "Enter the base length of the triangle: -6\n",
      "Enter the height of the triangle: -10\n",
      "\n",
      "\n",
      "Entered values must be positive.\n"
     ]
    }
   ],
   "source": [
    "# version 0.0.1: handling user input\n",
    "def area_of_triangle():\n",
    "    base = float(input(\"Enter the base length of the triangle: \"))\n",
    "    height = float(input(\"Enter the height of the triangle: \"))\n",
    "    print('\\n')\n",
    "    if (base <= 0 or height <= 0):\n",
    "        print(\"Entered values must be positive.\")\n",
    "    else:    \n",
    "        area = 0.5 * base * height\n",
    "        print('The area of the triangle is', area)  \n",
    " \n",
    "area_of_triangle()\n"
   ]
  },
  {
   "cell_type": "code",
   "execution_count": 2,
   "id": "09f082f0",
   "metadata": {
    "scrolled": true
   },
   "outputs": [
    {
     "name": "stdout",
     "output_type": "stream",
     "text": [
      "Enter the base length of the triangle: 67\n",
      "Enter the height of the triangle: 320\n",
      "\n",
      "\n",
      "The area of the triangle is 10720.0\n"
     ]
    }
   ],
   "source": [
    "area_of_triangle()"
   ]
  },
  {
   "cell_type": "code",
   "execution_count": 3,
   "id": "b91b397c",
   "metadata": {},
   "outputs": [
    {
     "name": "stdout",
     "output_type": "stream",
     "text": [
      "Enter a unit measurement of ft, in, m or cm.\n"
     ]
    }
   ],
   "source": [
    "# version as a call function accepting args\n",
    "def area_of_triangle2(base, height, unit):\n",
    "    x = base\n",
    "    y = height\n",
    "    measured_in = unit.lower()\n",
    "#   print(type(measured_in))     debug\n",
    "    if (x <= 0 or y <= 0):\n",
    "        print(\"Entered values must be positive.\")\n",
    "    if (measured_in != \"cm\" and measured_in != \"in\" and measured_in != \"ft\" and measured_in != \"m\"):   \n",
    "        print(\"Enter a unit measurement of ft, in, m or cm.\")\n",
    "\n",
    "    else:    \n",
    "        area = 0.5 * x * y\n",
    "        print(\"Area: \",area, measured_in)\n",
    "\n",
    "# test use cases:\n",
    "# area_of_triangle(5, 3, 'dm')    \n",
    "# area_of_triangle(-4, 4, 'g')\n",
    "# area_of_triangle(395, 34, 'm' )\n",
    "              \n",
    "area_of_triangle2(3, 5, 'Z')     "
   ]
  },
  {
   "cell_type": "code",
   "execution_count": 4,
   "id": "f0631aa2",
   "metadata": {},
   "outputs": [
    {
     "name": "stdout",
     "output_type": "stream",
     "text": [
      "Enter a unit measurement of ft, in, m or cm.\n"
     ]
    }
   ],
   "source": [
    "area_of_triangle2(5, 3, 'dm')  "
   ]
  },
  {
   "cell_type": "code",
   "execution_count": 5,
   "id": "f2c86414",
   "metadata": {},
   "outputs": [
    {
     "name": "stdout",
     "output_type": "stream",
     "text": [
      "Entered values must be positive.\n",
      "Enter a unit measurement of ft, in, m or cm.\n"
     ]
    }
   ],
   "source": [
    "area_of_triangle2(-4, 4, 'g')"
   ]
  },
  {
   "cell_type": "code",
   "execution_count": 6,
   "id": "f7f71024",
   "metadata": {},
   "outputs": [
    {
     "name": "stdout",
     "output_type": "stream",
     "text": [
      "Area:  6715.0 m\n"
     ]
    }
   ],
   "source": [
    "area_of_triangle2(395, 34, 'm')"
   ]
  },
  {
   "cell_type": "code",
   "execution_count": null,
   "id": "033ad3eb",
   "metadata": {},
   "outputs": [],
   "source": []
  }
 ],
 "metadata": {
  "kernelspec": {
   "display_name": "Python 3 (ipykernel)",
   "language": "python",
   "name": "python3"
  },
  "language_info": {
   "codemirror_mode": {
    "name": "ipython",
    "version": 3
   },
   "file_extension": ".py",
   "mimetype": "text/x-python",
   "name": "python",
   "nbconvert_exporter": "python",
   "pygments_lexer": "ipython3",
   "version": "3.9.7"
  }
 },
 "nbformat": 4,
 "nbformat_minor": 5
}
